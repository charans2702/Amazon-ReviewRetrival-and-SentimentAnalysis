{
 "cells": [
  {
   "cell_type": "code",
   "execution_count": 1,
   "metadata": {},
   "outputs": [],
   "source": [
    "import os"
   ]
  },
  {
   "cell_type": "code",
   "execution_count": 2,
   "metadata": {},
   "outputs": [
    {
     "data": {
      "text/plain": [
       "'c:\\\\Users\\\\Dell\\\\Desktop\\\\amazon_scraper\\\\research'"
      ]
     },
     "execution_count": 2,
     "metadata": {},
     "output_type": "execute_result"
    }
   ],
   "source": [
    "%pwd"
   ]
  },
  {
   "cell_type": "code",
   "execution_count": 3,
   "metadata": {},
   "outputs": [],
   "source": [
    "os.chdir('../')"
   ]
  },
  {
   "cell_type": "code",
   "execution_count": 4,
   "metadata": {},
   "outputs": [
    {
     "data": {
      "text/plain": [
       "'c:\\\\Users\\\\Dell\\\\Desktop\\\\amazon_scraper'"
      ]
     },
     "execution_count": 4,
     "metadata": {},
     "output_type": "execute_result"
    }
   ],
   "source": [
    "%pwd"
   ]
  },
  {
   "cell_type": "code",
   "execution_count": 5,
   "metadata": {},
   "outputs": [],
   "source": [
    "from sklearn.feature_extraction.text import TfidfVectorizer\n",
    "from textblob import TextBlob\n",
    "import pandas as pd\n",
    "import numpy as np\n",
    "import sqlite3"
   ]
  },
  {
   "cell_type": "code",
   "execution_count": 6,
   "metadata": {},
   "outputs": [],
   "source": [
    "conn = sqlite3.connect('amazon_reviews.db')"
   ]
  },
  {
   "cell_type": "code",
   "execution_count": 7,
   "metadata": {},
   "outputs": [],
   "source": [
    "df = pd.read_sql_query(\"SELECT * FROM reviews\", conn)"
   ]
  },
  {
   "cell_type": "code",
   "execution_count": 8,
   "metadata": {},
   "outputs": [
    {
     "data": {
      "text/html": [
       "<div>\n",
       "<style scoped>\n",
       "    .dataframe tbody tr th:only-of-type {\n",
       "        vertical-align: middle;\n",
       "    }\n",
       "\n",
       "    .dataframe tbody tr th {\n",
       "        vertical-align: top;\n",
       "    }\n",
       "\n",
       "    .dataframe thead th {\n",
       "        text-align: right;\n",
       "    }\n",
       "</style>\n",
       "<table border=\"1\" class=\"dataframe\">\n",
       "  <thead>\n",
       "    <tr style=\"text-align: right;\">\n",
       "      <th></th>\n",
       "      <th>Title</th>\n",
       "      <th>Description</th>\n",
       "      <th>Rating</th>\n",
       "      <th>Color</th>\n",
       "      <th>Storage Size</th>\n",
       "      <th>Verified Purchase</th>\n",
       "    </tr>\n",
       "  </thead>\n",
       "  <tbody>\n",
       "    <tr>\n",
       "      <th>0</th>\n",
       "      <td>Confused? Read on! One stop review for your fl...</td>\n",
       "      <td>I went through a lot of reviews and articles b...</td>\n",
       "      <td>5.0</td>\n",
       "      <td>Black</td>\n",
       "      <td>128GB</td>\n",
       "      <td>Verified Purchase</td>\n",
       "    </tr>\n",
       "    <tr>\n",
       "      <th>1</th>\n",
       "      <td>Excellent product; please purchase if your dat...</td>\n",
       "      <td>The iPhone 12 is the latest iteration of Apple...</td>\n",
       "      <td>5.0</td>\n",
       "      <td>Black</td>\n",
       "      <td>128GB</td>\n",
       "      <td>Verified Purchase</td>\n",
       "    </tr>\n",
       "    <tr>\n",
       "      <th>2</th>\n",
       "      <td>An overall good premium experience</td>\n",
       "      <td>SUMMERY: As a first time iPhone user, I would ...</td>\n",
       "      <td>4.0</td>\n",
       "      <td>N/A</td>\n",
       "      <td>N/A</td>\n",
       "      <td>Verified Purchase</td>\n",
       "    </tr>\n",
       "    <tr>\n",
       "      <th>3</th>\n",
       "      <td>Perfect product</td>\n",
       "      <td>It's my second iPhone ever and I bought it wit...</td>\n",
       "      <td>5.0</td>\n",
       "      <td>N/A</td>\n",
       "      <td>N/A</td>\n",
       "      <td>Verified Purchase</td>\n",
       "    </tr>\n",
       "    <tr>\n",
       "      <th>4</th>\n",
       "      <td>First step into the ecosystem!</td>\n",
       "      <td>I have been a smartphone user since 2015, used...</td>\n",
       "      <td>5.0</td>\n",
       "      <td>Blue</td>\n",
       "      <td>128GB</td>\n",
       "      <td>Verified Purchase</td>\n",
       "    </tr>\n",
       "  </tbody>\n",
       "</table>\n",
       "</div>"
      ],
      "text/plain": [
       "                                               Title  \\\n",
       "0  Confused? Read on! One stop review for your fl...   \n",
       "1  Excellent product; please purchase if your dat...   \n",
       "2                 An overall good premium experience   \n",
       "3                                    Perfect product   \n",
       "4                     First step into the ecosystem!   \n",
       "\n",
       "                                         Description Rating  Color  \\\n",
       "0  I went through a lot of reviews and articles b...    5.0  Black   \n",
       "1  The iPhone 12 is the latest iteration of Apple...    5.0  Black   \n",
       "2  SUMMERY: As a first time iPhone user, I would ...    4.0    N/A   \n",
       "3  It's my second iPhone ever and I bought it wit...    5.0    N/A   \n",
       "4  I have been a smartphone user since 2015, used...    5.0   Blue   \n",
       "\n",
       "  Storage Size  Verified Purchase  \n",
       "0        128GB  Verified Purchase  \n",
       "1        128GB  Verified Purchase  \n",
       "2          N/A  Verified Purchase  \n",
       "3          N/A  Verified Purchase  \n",
       "4        128GB  Verified Purchase  "
      ]
     },
     "execution_count": 8,
     "metadata": {},
     "output_type": "execute_result"
    }
   ],
   "source": [
    "df.head()"
   ]
  },
  {
   "cell_type": "code",
   "execution_count": 9,
   "metadata": {},
   "outputs": [
    {
     "data": {
      "text/plain": [
       "Rating\n",
       "5.0    53\n",
       "4.0    41\n",
       "3.0     5\n",
       "1.0     1\n",
       "Name: count, dtype: int64"
      ]
     },
     "execution_count": 9,
     "metadata": {},
     "output_type": "execute_result"
    }
   ],
   "source": [
    "df['Rating'].value_counts()"
   ]
  },
  {
   "cell_type": "code",
   "execution_count": 10,
   "metadata": {},
   "outputs": [
    {
     "data": {
      "text/plain": [
       "Verified Purchase\n",
       "Verified Purchase    100\n",
       "Name: count, dtype: int64"
      ]
     },
     "execution_count": 10,
     "metadata": {},
     "output_type": "execute_result"
    }
   ],
   "source": [
    "df['Verified Purchase'].value_counts()"
   ]
  },
  {
   "cell_type": "code",
   "execution_count": 11,
   "metadata": {},
   "outputs": [
    {
     "data": {
      "text/plain": [
       "Color\n",
       "N/A             62\n",
       "Blue            20\n",
       "Black           16\n",
       "(PRODUCT)RED     2\n",
       "Name: count, dtype: int64"
      ]
     },
     "execution_count": 11,
     "metadata": {},
     "output_type": "execute_result"
    }
   ],
   "source": [
    "df['Color'].value_counts()"
   ]
  },
  {
   "cell_type": "code",
   "execution_count": 12,
   "metadata": {},
   "outputs": [
    {
     "data": {
      "text/plain": [
       "Storage Size\n",
       "N/A      62\n",
       "128GB    36\n",
       "64GB      2\n",
       "Name: count, dtype: int64"
      ]
     },
     "execution_count": 12,
     "metadata": {},
     "output_type": "execute_result"
    }
   ],
   "source": [
    "df['Storage Size'].value_counts()"
   ]
  },
  {
   "cell_type": "code",
   "execution_count": 13,
   "metadata": {},
   "outputs": [],
   "source": [
    "def analyze_keywords(reviews):\n",
    "    all_text = ' '.join(reviews['Description'])\n",
    "    vectorizer = TfidfVectorizer(stop_words='english', max_features=2000)\n",
    "    tfidf_matrix = vectorizer.fit_transform([all_text])\n",
    "    feature_names = vectorizer.get_feature_names_out()\n",
    "    sentiments = [TextBlob(text).sentiment.polarity for text in reviews['Description']]\n",
    "    word_sentiments = {word: [] for word in feature_names}\n",
    "    for review, sentiment in zip(reviews['Description'], sentiments):\n",
    "        words = set(review.lower().split())\n",
    "        for word in words.intersection(feature_names):\n",
    "            word_sentiments[word].append(sentiment)\n",
    "\n",
    "    avg_sentiments = {word: np.mean(sents) if sents else 0 for word, sents in word_sentiments.items()}\n",
    "    sorted_words = sorted(avg_sentiments.items(), key=lambda x: x[1])\n",
    "    worst_keywords = sorted_words[:10]\n",
    "    best_keywords = sorted_words[-10:][::-1]\n",
    "    \n",
    "    return best_keywords, worst_keywords"
   ]
  },
  {
   "cell_type": "code",
   "execution_count": 14,
   "metadata": {},
   "outputs": [],
   "source": [
    "best_keywords, worst_keywords = analyze_keywords(df)"
   ]
  },
  {
   "cell_type": "code",
   "execution_count": 15,
   "metadata": {},
   "outputs": [
    {
     "name": "stdout",
     "output_type": "stream",
     "text": [
      "Best Keywords: [('hii', np.float64(1.0)), ('gays', np.float64(1.0)), ('branded', np.float64(1.0)), ('sister', np.float64(0.9099999999999999)), ('loves', np.float64(0.9099999999999999)), ('law', np.float64(0.9099999999999999)), ('lags', np.float64(0.701764705882353)), ('pricelove', np.float64(0.7)), ('jindabad', np.float64(0.7)), ('superb', np.float64(0.6966911764705883))]\n",
      "Worst Keywords: [('accesories', np.float64(-0.051679841897233215)), ('accessory', np.float64(-0.051679841897233215)), ('annoying', np.float64(-0.051679841897233215)), ('answer', np.float64(-0.051679841897233215)), ('boring', np.float64(-0.051679841897233215)), ('claim', np.float64(-0.051679841897233215)), ('consistency', np.float64(-0.051679841897233215)), ('decade', np.float64(-0.051679841897233215)), ('exorbitant', np.float64(-0.051679841897233215)), ('explore', np.float64(-0.051679841897233215))]\n"
     ]
    }
   ],
   "source": [
    "print(\"Best Keywords:\", best_keywords)\n",
    "print(\"Worst Keywords:\", worst_keywords)"
   ]
  },
  {
   "cell_type": "code",
   "execution_count": 16,
   "metadata": {},
   "outputs": [
    {
     "data": {
      "text/plain": [
       "10"
      ]
     },
     "execution_count": 16,
     "metadata": {},
     "output_type": "execute_result"
    }
   ],
   "source": [
    "len(best_keywords)"
   ]
  },
  {
   "cell_type": "code",
   "execution_count": 17,
   "metadata": {},
   "outputs": [
    {
     "data": {
      "text/plain": [
       "10"
      ]
     },
     "execution_count": 17,
     "metadata": {},
     "output_type": "execute_result"
    }
   ],
   "source": [
    "len(worst_keywords)"
   ]
  },
  {
   "cell_type": "code",
   "execution_count": 18,
   "metadata": {},
   "outputs": [],
   "source": [
    "best_keyword=[]\n",
    "for i in range(len(best_keywords)):\n",
    "    best_keyword.append(best_keywords[i][0])"
   ]
  },
  {
   "cell_type": "code",
   "execution_count": 19,
   "metadata": {},
   "outputs": [
    {
     "data": {
      "text/plain": [
       "['hii',\n",
       " 'gays',\n",
       " 'branded',\n",
       " 'sister',\n",
       " 'loves',\n",
       " 'law',\n",
       " 'lags',\n",
       " 'pricelove',\n",
       " 'jindabad',\n",
       " 'superb']"
      ]
     },
     "execution_count": 19,
     "metadata": {},
     "output_type": "execute_result"
    }
   ],
   "source": [
    "best_keyword"
   ]
  },
  {
   "cell_type": "code",
   "execution_count": 20,
   "metadata": {},
   "outputs": [],
   "source": [
    "worst_keyword=[]\n",
    "for i in range(len(worst_keywords)):\n",
    "    worst_keyword.append(worst_keywords[i][0])"
   ]
  },
  {
   "cell_type": "code",
   "execution_count": 21,
   "metadata": {},
   "outputs": [
    {
     "data": {
      "text/plain": [
       "['accesories',\n",
       " 'accessory',\n",
       " 'annoying',\n",
       " 'answer',\n",
       " 'boring',\n",
       " 'claim',\n",
       " 'consistency',\n",
       " 'decade',\n",
       " 'exorbitant',\n",
       " 'explore']"
      ]
     },
     "execution_count": 21,
     "metadata": {},
     "output_type": "execute_result"
    }
   ],
   "source": [
    "worst_keyword"
   ]
  }
 ],
 "metadata": {
  "kernelspec": {
   "display_name": "venv",
   "language": "python",
   "name": "python3"
  },
  "language_info": {
   "codemirror_mode": {
    "name": "ipython",
    "version": 3
   },
   "file_extension": ".py",
   "mimetype": "text/x-python",
   "name": "python",
   "nbconvert_exporter": "python",
   "pygments_lexer": "ipython3",
   "version": "3.12.4"
  }
 },
 "nbformat": 4,
 "nbformat_minor": 2
}
