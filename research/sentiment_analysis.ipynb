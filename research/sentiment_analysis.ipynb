{
 "cells": [
  {
   "cell_type": "code",
   "execution_count": 1,
   "metadata": {},
   "outputs": [],
   "source": [
    "import os"
   ]
  },
  {
   "cell_type": "code",
   "execution_count": 2,
   "metadata": {},
   "outputs": [
    {
     "data": {
      "text/plain": [
       "'c:\\\\Users\\\\Dell\\\\Desktop\\\\amazon_scraper\\\\research'"
      ]
     },
     "execution_count": 2,
     "metadata": {},
     "output_type": "execute_result"
    }
   ],
   "source": [
    "%pwd"
   ]
  },
  {
   "cell_type": "code",
   "execution_count": 3,
   "metadata": {},
   "outputs": [],
   "source": [
    "os.chdir('../')"
   ]
  },
  {
   "cell_type": "code",
   "execution_count": 4,
   "metadata": {},
   "outputs": [
    {
     "data": {
      "text/plain": [
       "'c:\\\\Users\\\\Dell\\\\Desktop\\\\amazon_scraper'"
      ]
     },
     "execution_count": 4,
     "metadata": {},
     "output_type": "execute_result"
    }
   ],
   "source": [
    "%pwd"
   ]
  },
  {
   "cell_type": "code",
   "execution_count": 5,
   "metadata": {},
   "outputs": [],
   "source": [
    "import nltk\n",
    "from nltk.sentiment import SentimentIntensityAnalyzer\n",
    "import pandas as pd\n",
    "from sqlalchemy import create_engine\n",
    "import sqlite3"
   ]
  },
  {
   "cell_type": "code",
   "execution_count": 6,
   "metadata": {},
   "outputs": [
    {
     "data": {
      "text/plain": [
       "True"
      ]
     },
     "execution_count": 6,
     "metadata": {},
     "output_type": "execute_result"
    }
   ],
   "source": [
    "nltk.download('vader_lexicon', quiet=True)"
   ]
  },
  {
   "cell_type": "code",
   "execution_count": 7,
   "metadata": {},
   "outputs": [],
   "source": [
    "conn = sqlite3.connect('amazon_reviews.db')"
   ]
  },
  {
   "cell_type": "code",
   "execution_count": 8,
   "metadata": {},
   "outputs": [],
   "source": [
    "df = pd.read_sql_query(\"SELECT * FROM reviews\", conn)"
   ]
  },
  {
   "cell_type": "code",
   "execution_count": 9,
   "metadata": {},
   "outputs": [
    {
     "data": {
      "text/html": [
       "<div>\n",
       "<style scoped>\n",
       "    .dataframe tbody tr th:only-of-type {\n",
       "        vertical-align: middle;\n",
       "    }\n",
       "\n",
       "    .dataframe tbody tr th {\n",
       "        vertical-align: top;\n",
       "    }\n",
       "\n",
       "    .dataframe thead th {\n",
       "        text-align: right;\n",
       "    }\n",
       "</style>\n",
       "<table border=\"1\" class=\"dataframe\">\n",
       "  <thead>\n",
       "    <tr style=\"text-align: right;\">\n",
       "      <th></th>\n",
       "      <th>Title</th>\n",
       "      <th>Description</th>\n",
       "      <th>Rating</th>\n",
       "      <th>Color</th>\n",
       "      <th>Storage Size</th>\n",
       "      <th>Verified Purchase</th>\n",
       "    </tr>\n",
       "  </thead>\n",
       "  <tbody>\n",
       "    <tr>\n",
       "      <th>0</th>\n",
       "      <td>Confused? Read on! One stop review for your fl...</td>\n",
       "      <td>I went through a lot of reviews and articles b...</td>\n",
       "      <td>5.0</td>\n",
       "      <td>Black</td>\n",
       "      <td>128GB</td>\n",
       "      <td>Verified Purchase</td>\n",
       "    </tr>\n",
       "    <tr>\n",
       "      <th>1</th>\n",
       "      <td>Excellent product; please purchase if your dat...</td>\n",
       "      <td>The iPhone 12 is the latest iteration of Apple...</td>\n",
       "      <td>5.0</td>\n",
       "      <td>Black</td>\n",
       "      <td>128GB</td>\n",
       "      <td>Verified Purchase</td>\n",
       "    </tr>\n",
       "    <tr>\n",
       "      <th>2</th>\n",
       "      <td>An overall good premium experience</td>\n",
       "      <td>SUMMERY: As a first time iPhone user, I would ...</td>\n",
       "      <td>4.0</td>\n",
       "      <td>N/A</td>\n",
       "      <td>N/A</td>\n",
       "      <td>Verified Purchase</td>\n",
       "    </tr>\n",
       "    <tr>\n",
       "      <th>3</th>\n",
       "      <td>Perfect product</td>\n",
       "      <td>It's my second iPhone ever and I bought it wit...</td>\n",
       "      <td>5.0</td>\n",
       "      <td>N/A</td>\n",
       "      <td>N/A</td>\n",
       "      <td>Verified Purchase</td>\n",
       "    </tr>\n",
       "    <tr>\n",
       "      <th>4</th>\n",
       "      <td>First step into the ecosystem!</td>\n",
       "      <td>I have been a smartphone user since 2015, used...</td>\n",
       "      <td>5.0</td>\n",
       "      <td>Blue</td>\n",
       "      <td>128GB</td>\n",
       "      <td>Verified Purchase</td>\n",
       "    </tr>\n",
       "  </tbody>\n",
       "</table>\n",
       "</div>"
      ],
      "text/plain": [
       "                                               Title  \\\n",
       "0  Confused? Read on! One stop review for your fl...   \n",
       "1  Excellent product; please purchase if your dat...   \n",
       "2                 An overall good premium experience   \n",
       "3                                    Perfect product   \n",
       "4                     First step into the ecosystem!   \n",
       "\n",
       "                                         Description Rating  Color  \\\n",
       "0  I went through a lot of reviews and articles b...    5.0  Black   \n",
       "1  The iPhone 12 is the latest iteration of Apple...    5.0  Black   \n",
       "2  SUMMERY: As a first time iPhone user, I would ...    4.0    N/A   \n",
       "3  It's my second iPhone ever and I bought it wit...    5.0    N/A   \n",
       "4  I have been a smartphone user since 2015, used...    5.0   Blue   \n",
       "\n",
       "  Storage Size  Verified Purchase  \n",
       "0        128GB  Verified Purchase  \n",
       "1        128GB  Verified Purchase  \n",
       "2          N/A  Verified Purchase  \n",
       "3          N/A  Verified Purchase  \n",
       "4        128GB  Verified Purchase  "
      ]
     },
     "execution_count": 9,
     "metadata": {},
     "output_type": "execute_result"
    }
   ],
   "source": [
    "df.head()"
   ]
  },
  {
   "cell_type": "code",
   "execution_count": 10,
   "metadata": {},
   "outputs": [],
   "source": [
    "def analyze_sentiment(text):\n",
    "    sia = SentimentIntensityAnalyzer()\n",
    "    scores = sia.polarity_scores(text)\n",
    "    \n",
    "    if scores['compound'] > 0.05:\n",
    "        return 'positive'\n",
    "    elif scores['compound'] < -0.05:\n",
    "        return 'negative'\n",
    "    else:\n",
    "        return 'neutral'"
   ]
  },
  {
   "cell_type": "code",
   "execution_count": 11,
   "metadata": {},
   "outputs": [],
   "source": [
    "def analyze_reviews(reviews):\n",
    "    sentiments = [analyze_sentiment(text) for text in reviews['Description']]\n",
    "    reviews['Sentiment'] = sentiments\n",
    "    return reviews"
   ]
  },
  {
   "cell_type": "code",
   "execution_count": 12,
   "metadata": {},
   "outputs": [],
   "source": [
    "df_with_sentiment = analyze_reviews(df)"
   ]
  },
  {
   "cell_type": "code",
   "execution_count": 13,
   "metadata": {},
   "outputs": [],
   "source": [
    "engine = create_engine('sqlite:///amazon_reviews.db')"
   ]
  },
  {
   "cell_type": "code",
   "execution_count": 14,
   "metadata": {},
   "outputs": [
    {
     "data": {
      "text/plain": [
       "100"
      ]
     },
     "execution_count": 14,
     "metadata": {},
     "output_type": "execute_result"
    }
   ],
   "source": [
    "df_with_sentiment.to_sql('reviews', engine, if_exists='replace', index=False)"
   ]
  },
  {
   "cell_type": "code",
   "execution_count": 15,
   "metadata": {},
   "outputs": [],
   "source": [
    "sentiment_counts = df_with_sentiment['Sentiment'].value_counts()"
   ]
  },
  {
   "cell_type": "code",
   "execution_count": 16,
   "metadata": {},
   "outputs": [
    {
     "data": {
      "text/plain": [
       "Sentiment\n",
       "positive    85\n",
       "negative    10\n",
       "neutral      5\n",
       "Name: count, dtype: int64"
      ]
     },
     "execution_count": 16,
     "metadata": {},
     "output_type": "execute_result"
    }
   ],
   "source": [
    "sentiment_counts"
   ]
  },
  {
   "cell_type": "code",
   "execution_count": 17,
   "metadata": {},
   "outputs": [],
   "source": [
    "df_with_sentiment.to_csv('amazon_reviews.csv')"
   ]
  },
  {
   "cell_type": "code",
   "execution_count": 20,
   "metadata": {},
   "outputs": [],
   "source": [
    "import pandas as pd"
   ]
  },
  {
   "cell_type": "code",
   "execution_count": 21,
   "metadata": {},
   "outputs": [],
   "source": [
    "df=pd.read_csv('amazon_reviews.csv')"
   ]
  },
  {
   "cell_type": "code",
   "execution_count": 22,
   "metadata": {},
   "outputs": [
    {
     "data": {
      "text/html": [
       "<div>\n",
       "<style scoped>\n",
       "    .dataframe tbody tr th:only-of-type {\n",
       "        vertical-align: middle;\n",
       "    }\n",
       "\n",
       "    .dataframe tbody tr th {\n",
       "        vertical-align: top;\n",
       "    }\n",
       "\n",
       "    .dataframe thead th {\n",
       "        text-align: right;\n",
       "    }\n",
       "</style>\n",
       "<table border=\"1\" class=\"dataframe\">\n",
       "  <thead>\n",
       "    <tr style=\"text-align: right;\">\n",
       "      <th></th>\n",
       "      <th>Unnamed: 0</th>\n",
       "      <th>Title</th>\n",
       "      <th>Description</th>\n",
       "      <th>Rating</th>\n",
       "      <th>Color</th>\n",
       "      <th>Storage Size</th>\n",
       "      <th>Verified Purchase</th>\n",
       "      <th>Sentiment</th>\n",
       "    </tr>\n",
       "  </thead>\n",
       "  <tbody>\n",
       "    <tr>\n",
       "      <th>0</th>\n",
       "      <td>0</td>\n",
       "      <td>Confused? Read on! One stop review for your fl...</td>\n",
       "      <td>I went through a lot of reviews and articles b...</td>\n",
       "      <td>5.0</td>\n",
       "      <td>Black</td>\n",
       "      <td>128GB</td>\n",
       "      <td>Verified Purchase</td>\n",
       "      <td>positive</td>\n",
       "    </tr>\n",
       "    <tr>\n",
       "      <th>1</th>\n",
       "      <td>1</td>\n",
       "      <td>Excellent product; please purchase if your dat...</td>\n",
       "      <td>The iPhone 12 is the latest iteration of Apple...</td>\n",
       "      <td>5.0</td>\n",
       "      <td>Black</td>\n",
       "      <td>128GB</td>\n",
       "      <td>Verified Purchase</td>\n",
       "      <td>positive</td>\n",
       "    </tr>\n",
       "    <tr>\n",
       "      <th>2</th>\n",
       "      <td>2</td>\n",
       "      <td>An overall good premium experience</td>\n",
       "      <td>SUMMERY: As a first time iPhone user, I would ...</td>\n",
       "      <td>4.0</td>\n",
       "      <td>NaN</td>\n",
       "      <td>NaN</td>\n",
       "      <td>Verified Purchase</td>\n",
       "      <td>positive</td>\n",
       "    </tr>\n",
       "    <tr>\n",
       "      <th>3</th>\n",
       "      <td>3</td>\n",
       "      <td>Perfect product</td>\n",
       "      <td>It's my second iPhone ever and I bought it wit...</td>\n",
       "      <td>5.0</td>\n",
       "      <td>NaN</td>\n",
       "      <td>NaN</td>\n",
       "      <td>Verified Purchase</td>\n",
       "      <td>positive</td>\n",
       "    </tr>\n",
       "    <tr>\n",
       "      <th>4</th>\n",
       "      <td>4</td>\n",
       "      <td>First step into the ecosystem!</td>\n",
       "      <td>I have been a smartphone user since 2015, used...</td>\n",
       "      <td>5.0</td>\n",
       "      <td>Blue</td>\n",
       "      <td>128GB</td>\n",
       "      <td>Verified Purchase</td>\n",
       "      <td>positive</td>\n",
       "    </tr>\n",
       "  </tbody>\n",
       "</table>\n",
       "</div>"
      ],
      "text/plain": [
       "   Unnamed: 0                                              Title  \\\n",
       "0           0  Confused? Read on! One stop review for your fl...   \n",
       "1           1  Excellent product; please purchase if your dat...   \n",
       "2           2                 An overall good premium experience   \n",
       "3           3                                    Perfect product   \n",
       "4           4                     First step into the ecosystem!   \n",
       "\n",
       "                                         Description  Rating  Color  \\\n",
       "0  I went through a lot of reviews and articles b...     5.0  Black   \n",
       "1  The iPhone 12 is the latest iteration of Apple...     5.0  Black   \n",
       "2  SUMMERY: As a first time iPhone user, I would ...     4.0    NaN   \n",
       "3  It's my second iPhone ever and I bought it wit...     5.0    NaN   \n",
       "4  I have been a smartphone user since 2015, used...     5.0   Blue   \n",
       "\n",
       "  Storage Size  Verified Purchase Sentiment  \n",
       "0        128GB  Verified Purchase  positive  \n",
       "1        128GB  Verified Purchase  positive  \n",
       "2          NaN  Verified Purchase  positive  \n",
       "3          NaN  Verified Purchase  positive  \n",
       "4        128GB  Verified Purchase  positive  "
      ]
     },
     "execution_count": 22,
     "metadata": {},
     "output_type": "execute_result"
    }
   ],
   "source": [
    "df.head()"
   ]
  },
  {
   "cell_type": "code",
   "execution_count": 23,
   "metadata": {},
   "outputs": [
    {
     "name": "stdout",
     "output_type": "stream",
     "text": [
      "<class 'pandas.core.frame.DataFrame'>\n",
      "RangeIndex: 100 entries, 0 to 99\n",
      "Data columns (total 8 columns):\n",
      " #   Column             Non-Null Count  Dtype  \n",
      "---  ------             --------------  -----  \n",
      " 0   Unnamed: 0         100 non-null    int64  \n",
      " 1   Title              100 non-null    object \n",
      " 2   Description        99 non-null     object \n",
      " 3   Rating             100 non-null    float64\n",
      " 4   Color              38 non-null     object \n",
      " 5   Storage Size       38 non-null     object \n",
      " 6   Verified Purchase  100 non-null    object \n",
      " 7   Sentiment          100 non-null    object \n",
      "dtypes: float64(1), int64(1), object(6)\n",
      "memory usage: 6.4+ KB\n"
     ]
    }
   ],
   "source": [
    "df.info()"
   ]
  },
  {
   "cell_type": "code",
   "execution_count": 25,
   "metadata": {},
   "outputs": [
    {
     "data": {
      "text/plain": [
       "Title\n",
       "Good                                                              6\n",
       "Nice                                                              2\n",
       "An overall good premium experience                                1\n",
       "Perfect product                                                   1\n",
       "Confused? Read on! One stop review for your flagship purchase.    1\n",
       "                                                                 ..\n",
       "Looks are Premium rest everything is Mediocre                     1\n",
       "Worst replacement experience                                      1\n",
       "Camera is very bad                                                1\n",
       "Don’t go on the negative reviews. The product is amazing          1\n",
       "The BOSS Phone..!!! iPhone 12 truly a masterpiece from Apple.     1\n",
       "Name: count, Length: 94, dtype: int64"
      ]
     },
     "execution_count": 25,
     "metadata": {},
     "output_type": "execute_result"
    }
   ],
   "source": [
    "df['Title'].value_counts()"
   ]
  },
  {
   "cell_type": "code",
   "execution_count": 26,
   "metadata": {},
   "outputs": [],
   "source": [
    "df = df.drop_duplicates(keep='first')  "
   ]
  },
  {
   "cell_type": "code",
   "execution_count": 27,
   "metadata": {},
   "outputs": [
    {
     "data": {
      "text/plain": [
       "(100, 8)"
      ]
     },
     "execution_count": 27,
     "metadata": {},
     "output_type": "execute_result"
    }
   ],
   "source": [
    "df.shape"
   ]
  },
  {
   "cell_type": "code",
   "execution_count": 28,
   "metadata": {},
   "outputs": [
    {
     "data": {
      "text/html": [
       "<div>\n",
       "<style scoped>\n",
       "    .dataframe tbody tr th:only-of-type {\n",
       "        vertical-align: middle;\n",
       "    }\n",
       "\n",
       "    .dataframe tbody tr th {\n",
       "        vertical-align: top;\n",
       "    }\n",
       "\n",
       "    .dataframe thead th {\n",
       "        text-align: right;\n",
       "    }\n",
       "</style>\n",
       "<table border=\"1\" class=\"dataframe\">\n",
       "  <thead>\n",
       "    <tr style=\"text-align: right;\">\n",
       "      <th></th>\n",
       "      <th>Unnamed: 0</th>\n",
       "      <th>Title</th>\n",
       "      <th>Description</th>\n",
       "      <th>Rating</th>\n",
       "      <th>Color</th>\n",
       "      <th>Storage Size</th>\n",
       "      <th>Verified Purchase</th>\n",
       "      <th>Sentiment</th>\n",
       "    </tr>\n",
       "  </thead>\n",
       "  <tbody>\n",
       "    <tr>\n",
       "      <th>0</th>\n",
       "      <td>0</td>\n",
       "      <td>Confused? Read on! One stop review for your fl...</td>\n",
       "      <td>I went through a lot of reviews and articles b...</td>\n",
       "      <td>5.0</td>\n",
       "      <td>Black</td>\n",
       "      <td>128GB</td>\n",
       "      <td>Verified Purchase</td>\n",
       "      <td>positive</td>\n",
       "    </tr>\n",
       "    <tr>\n",
       "      <th>1</th>\n",
       "      <td>1</td>\n",
       "      <td>Excellent product; please purchase if your dat...</td>\n",
       "      <td>The iPhone 12 is the latest iteration of Apple...</td>\n",
       "      <td>5.0</td>\n",
       "      <td>Black</td>\n",
       "      <td>128GB</td>\n",
       "      <td>Verified Purchase</td>\n",
       "      <td>positive</td>\n",
       "    </tr>\n",
       "    <tr>\n",
       "      <th>2</th>\n",
       "      <td>2</td>\n",
       "      <td>An overall good premium experience</td>\n",
       "      <td>SUMMERY: As a first time iPhone user, I would ...</td>\n",
       "      <td>4.0</td>\n",
       "      <td>NaN</td>\n",
       "      <td>NaN</td>\n",
       "      <td>Verified Purchase</td>\n",
       "      <td>positive</td>\n",
       "    </tr>\n",
       "    <tr>\n",
       "      <th>3</th>\n",
       "      <td>3</td>\n",
       "      <td>Perfect product</td>\n",
       "      <td>It's my second iPhone ever and I bought it wit...</td>\n",
       "      <td>5.0</td>\n",
       "      <td>NaN</td>\n",
       "      <td>NaN</td>\n",
       "      <td>Verified Purchase</td>\n",
       "      <td>positive</td>\n",
       "    </tr>\n",
       "    <tr>\n",
       "      <th>4</th>\n",
       "      <td>4</td>\n",
       "      <td>First step into the ecosystem!</td>\n",
       "      <td>I have been a smartphone user since 2015, used...</td>\n",
       "      <td>5.0</td>\n",
       "      <td>Blue</td>\n",
       "      <td>128GB</td>\n",
       "      <td>Verified Purchase</td>\n",
       "      <td>positive</td>\n",
       "    </tr>\n",
       "  </tbody>\n",
       "</table>\n",
       "</div>"
      ],
      "text/plain": [
       "   Unnamed: 0                                              Title  \\\n",
       "0           0  Confused? Read on! One stop review for your fl...   \n",
       "1           1  Excellent product; please purchase if your dat...   \n",
       "2           2                 An overall good premium experience   \n",
       "3           3                                    Perfect product   \n",
       "4           4                     First step into the ecosystem!   \n",
       "\n",
       "                                         Description  Rating  Color  \\\n",
       "0  I went through a lot of reviews and articles b...     5.0  Black   \n",
       "1  The iPhone 12 is the latest iteration of Apple...     5.0  Black   \n",
       "2  SUMMERY: As a first time iPhone user, I would ...     4.0    NaN   \n",
       "3  It's my second iPhone ever and I bought it wit...     5.0    NaN   \n",
       "4  I have been a smartphone user since 2015, used...     5.0   Blue   \n",
       "\n",
       "  Storage Size  Verified Purchase Sentiment  \n",
       "0        128GB  Verified Purchase  positive  \n",
       "1        128GB  Verified Purchase  positive  \n",
       "2          NaN  Verified Purchase  positive  \n",
       "3          NaN  Verified Purchase  positive  \n",
       "4        128GB  Verified Purchase  positive  "
      ]
     },
     "execution_count": 28,
     "metadata": {},
     "output_type": "execute_result"
    }
   ],
   "source": [
    "df.head()"
   ]
  },
  {
   "cell_type": "code",
   "execution_count": 29,
   "metadata": {},
   "outputs": [
    {
     "data": {
      "text/plain": [
       "Rating\n",
       "5.0    53\n",
       "4.0    41\n",
       "3.0     5\n",
       "1.0     1\n",
       "Name: count, dtype: int64"
      ]
     },
     "execution_count": 29,
     "metadata": {},
     "output_type": "execute_result"
    }
   ],
   "source": [
    "df['Rating'].value_counts()"
   ]
  },
  {
   "cell_type": "code",
   "execution_count": 30,
   "metadata": {},
   "outputs": [
    {
     "data": {
      "text/html": [
       "<div>\n",
       "<style scoped>\n",
       "    .dataframe tbody tr th:only-of-type {\n",
       "        vertical-align: middle;\n",
       "    }\n",
       "\n",
       "    .dataframe tbody tr th {\n",
       "        vertical-align: top;\n",
       "    }\n",
       "\n",
       "    .dataframe thead th {\n",
       "        text-align: right;\n",
       "    }\n",
       "</style>\n",
       "<table border=\"1\" class=\"dataframe\">\n",
       "  <thead>\n",
       "    <tr style=\"text-align: right;\">\n",
       "      <th></th>\n",
       "      <th>Unnamed: 0</th>\n",
       "      <th>Title</th>\n",
       "      <th>Description</th>\n",
       "      <th>Rating</th>\n",
       "      <th>Color</th>\n",
       "      <th>Storage Size</th>\n",
       "      <th>Verified Purchase</th>\n",
       "      <th>Sentiment</th>\n",
       "    </tr>\n",
       "  </thead>\n",
       "  <tbody>\n",
       "    <tr>\n",
       "      <th>10</th>\n",
       "      <td>10</td>\n",
       "      <td>Best Iphone</td>\n",
       "      <td>Value for money and no lags !! Iphone 12 is be...</td>\n",
       "      <td>5.0</td>\n",
       "      <td>Black</td>\n",
       "      <td>128GB</td>\n",
       "      <td>Verified Purchase</td>\n",
       "      <td>positive</td>\n",
       "    </tr>\n",
       "  </tbody>\n",
       "</table>\n",
       "</div>"
      ],
      "text/plain": [
       "    Unnamed: 0        Title  \\\n",
       "10          10  Best Iphone   \n",
       "\n",
       "                                          Description  Rating  Color  \\\n",
       "10  Value for money and no lags !! Iphone 12 is be...     5.0  Black   \n",
       "\n",
       "   Storage Size  Verified Purchase Sentiment  \n",
       "10        128GB  Verified Purchase  positive  "
      ]
     },
     "execution_count": 30,
     "metadata": {},
     "output_type": "execute_result"
    }
   ],
   "source": [
    "df[df['Title']=='Best Iphone']"
   ]
  },
  {
   "cell_type": "code",
   "execution_count": 31,
   "metadata": {},
   "outputs": [],
   "source": [
    "df = df.drop_duplicates(keep='last')"
   ]
  },
  {
   "cell_type": "code",
   "execution_count": 32,
   "metadata": {},
   "outputs": [
    {
     "data": {
      "text/plain": [
       "(100, 8)"
      ]
     },
     "execution_count": 32,
     "metadata": {},
     "output_type": "execute_result"
    }
   ],
   "source": [
    "df.shape"
   ]
  },
  {
   "cell_type": "code",
   "execution_count": 33,
   "metadata": {},
   "outputs": [],
   "source": [
    "df = df.loc[:, ~df.columns.str.contains('^Unnamed')]"
   ]
  },
  {
   "cell_type": "code",
   "execution_count": 34,
   "metadata": {},
   "outputs": [],
   "source": [
    "df = df.drop_duplicates(keep='last')"
   ]
  },
  {
   "cell_type": "code",
   "execution_count": 35,
   "metadata": {},
   "outputs": [
    {
     "data": {
      "text/plain": [
       "(99, 7)"
      ]
     },
     "execution_count": 35,
     "metadata": {},
     "output_type": "execute_result"
    }
   ],
   "source": [
    "df.shape"
   ]
  }
 ],
 "metadata": {
  "kernelspec": {
   "display_name": "venv",
   "language": "python",
   "name": "python3"
  },
  "language_info": {
   "codemirror_mode": {
    "name": "ipython",
    "version": 3
   },
   "file_extension": ".py",
   "mimetype": "text/x-python",
   "name": "python",
   "nbconvert_exporter": "python",
   "pygments_lexer": "ipython3",
   "version": "3.12.4"
  }
 },
 "nbformat": 4,
 "nbformat_minor": 2
}
